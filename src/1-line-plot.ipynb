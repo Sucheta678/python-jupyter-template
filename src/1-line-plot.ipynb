import matplotlib.pyplot as plt
import numpy as np

# Generate x values from 0 to 10
x = np.linspace(0, 10, 100)  # 100 points for a smooth curve
y = x ** 2  # Square of x

# Create the plot
plt.figure(figsize=(8, 5))
plt.plot(x, y, label='y = x²', color='b', linewidth=2)

# Customizations
plt.title("Square Function Plot", fontsize=14)
plt.xlabel("X Values", fontsize=12)
plt.ylabel("Y Values (x²)", fontsize=12)
plt.grid(True, linestyle='--', alpha=0.7)
plt.legend()

# Show the plot
plt.show()

